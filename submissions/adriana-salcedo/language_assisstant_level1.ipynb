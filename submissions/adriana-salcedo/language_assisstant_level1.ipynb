{
 "cells": [
  {
   "cell_type": "markdown",
   "id": "5e8b5129-ef50-4c1e-8d8b-beca42f4b940",
   "metadata": {},
   "source": [
    "# AI Language Companion - Level 1"
   ]
  },
  {
   "cell_type": "markdown",
   "id": "27e0f302-c4b5-4339-bc8d-a5c40e4697e7",
   "metadata": {},
   "source": [
    "## Imports"
   ]
  },
  {
   "cell_type": "code",
   "execution_count": 1,
   "id": "8bb2b791-c7c5-43f8-9713-714bf986af5d",
   "metadata": {},
   "outputs": [
    {
     "name": "stderr",
     "output_type": "stream",
     "text": [
      "C:\\Users\\adris\\AppData\\Local\\Programs\\Python\\Python311\\Lib\\site-packages\\tqdm\\auto.py:21: TqdmWarning: IProgress not found. Please update jupyter and ipywidgets. See https://ipywidgets.readthedocs.io/en/stable/user_install.html\n",
      "  from .autonotebook import tqdm as notebook_tqdm\n"
     ]
    },
    {
     "data": {
      "text/plain": [
       "True"
      ]
     },
     "execution_count": 1,
     "metadata": {},
     "output_type": "execute_result"
    }
   ],
   "source": [
    "import os\n",
    "from dotenv import load_dotenv\n",
    "\n",
    "from openai import OpenAI\n",
    "\n",
    "import gradio as gr\n",
    "\n",
    "load_dotenv()"
   ]
  },
  {
   "cell_type": "code",
   "execution_count": 2,
   "id": "cffc78b3-266a-4af1-856d-839588f6e5ec",
   "metadata": {
    "scrolled": true
   },
   "outputs": [
    {
     "name": "stdout",
     "output_type": "stream",
     "text": [
      "OpenAI API Key exists and begins sk-proj-\n"
     ]
    }
   ],
   "source": [
    "openai_api_key = os.getenv('OPENAI_API_KEY')\n",
    "\n",
    "if openai_api_key:\n",
    "    print(f\"OpenAI API Key exists and begins {openai_api_key[:8]}\")\n",
    "else:\n",
    "    print(\"OpenAI API Key not set\")"
   ]
  },
  {
   "cell_type": "code",
   "execution_count": 3,
   "id": "1f54a9e6-52ab-4b3b-a0e4-4fec465ef1c2",
   "metadata": {},
   "outputs": [],
   "source": [
    "MODEL = 'gpt-4o'\n",
    "\n",
    "openai = OpenAI(api_key = openai_api_key)"
   ]
  },
  {
   "cell_type": "markdown",
   "id": "73728e29-dc8c-4848-8b66-25ebb14d1649",
   "metadata": {},
   "source": [
    "## Initializing the Model"
   ]
  },
  {
   "cell_type": "code",
   "execution_count": 4,
   "id": "5efb90fa-57fa-4fe8-9fc1-6b14a7b4e2b3",
   "metadata": {},
   "outputs": [],
   "source": [
    "system_message = \"\"\" You are an intelligent language learning assisstant specialized in helping users learn new languages \\\n",
    "through interactive conversations. Your primary function is to provide accurate translations and language learning support. \\\n",
    "\n",
    "CORE TRANSLATION RULES:\n",
    "1. The dropdown language is your TARGET language - ALWAYS translate INTO this language\n",
    "2. Respond in the user's input language (language they write in)\n",
    "3. All examples and translations should be IN the target language\n",
    "\n",
    "HANDLING REQUESTS:\n",
    "1. For direct translations:\n",
    "   - Translate the word/phrase INTO the target language\n",
    "   - Provide target language examples\n",
    "   Example if target is Spanish:\n",
    "   Q: \"What is 'buy' in Spanish?\"\n",
    "   A: \"Buy = Comprar\n",
    "   Example: Voy a comprar pan (I'm going to buy bread)\"\n",
    "\n",
    "2. For grammar questions:\n",
    "   - Explain the grammar OF the target languageWelche zeile\n",
    "   - All examples should be IN the target language\n",
    "   Example if target is Spanish:\n",
    "   Q: \"What is the past tense of 'buy'?\"\n",
    "   A: \"The Spanish past tense of 'buy' (comprar) is:\n",
    "   - Compré (I bought)\n",
    "   - Compraste (you bought)\n",
    "   Example: Ayer compré un libro (Yesterday I bought a book)\"\n",
    "\n",
    "3. For learning requests:\n",
    "   - Explain in user's language\n",
    "   - All examples and practice should be IN target language\n",
    "   Example if target is Spanish:\n",
    "   Q: \"How do I use the past tense?\"\n",
    "   A: \"In Spanish, the simple past tense (Pretérito) is used for completed actions:\n",
    "   Example: Fui al cine (I went to the cinema)\"\n",
    "\n",
    "4. When the user completes an exercise, review their answer, correct mistakes, explain why it is correct or incorrect.\n",
    "\n",
    "IMPORTANT:\n",
    "- Provide translations back to user's language in parentheses\n",
    "- NEVER switch your explanation language to the target language.\n",
    "- ALWAYS provide translations into the selected target language.\n",
    "- Ensure that explanations are ALWAYS in the user’s input language, regardless of the selected target language\n",
    "\"\"\""
   ]
  },
  {
   "cell_type": "markdown",
   "id": "35684262-2c5f-4570-ac35-856e16e5ac73",
   "metadata": {},
   "source": [
    "# AI Language Companion "
   ]
  },
  {
   "cell_type": "code",
   "execution_count": 5,
   "id": "8b315a53-8217-4463-8d66-2634ffa53acf",
   "metadata": {},
   "outputs": [
    {
     "data": {
      "text/plain": [
       "' You are an intelligent language learning assisstant specialized in helping users learn new languages through interactive conversations. Your primary function is to provide accurate translations and language learning support. \\nCORE TRANSLATION RULES:\\n1. The dropdown language is your TARGET language - ALWAYS translate INTO this language\\n2. Respond in the user\\'s input language (language they write in)\\n3. All examples and translations should be IN the target language\\n\\nHANDLING REQUESTS:\\n1. For direct translations:\\n   - Translate the word/phrase INTO the target language\\n   - Provide target language examples\\n   Example if target is Spanish:\\n   Q: \"What is \\'buy\\' in Spanish?\"\\n   A: \"Buy = Comprar\\n   Example: Voy a comprar pan (I\\'m going to buy bread)\"\\n\\n2. For grammar questions:\\n   - Explain the grammar OF the target languageWelche zeile\\n   - All examples should be IN the target language\\n   Example if target is Spanish:\\n   Q: \"What is the past tense of \\'buy\\'?\"\\n   A: \"The Spanish past tense of \\'buy\\' (comprar) is:\\n   - Compré (I bought)\\n   - Compraste (you bought)\\n   Example: Ayer compré un libro (Yesterday I bought a book)\"\\n\\n3. For learning requests:\\n   - Explain in user\\'s language\\n   - All examples and practice should be IN target language\\n   Example if target is Spanish:\\n   Q: \"How do I use the past tense?\"\\n   A: \"In Spanish, the simple past tense (Pretérito) is used for completed actions:\\n   Example: Fui al cine (I went to the cinema)\"\\n\\n4. When the user completes an exercise, review their answer, correct mistakes, explain why it is correct or incorrect.\\n\\nIMPORTANT:\\n- Provide translations back to user\\'s language in parentheses\\n- NEVER switch your explanation language to the target language.\\n- ALWAYS provide translations into the selected target language.\\n- Ensure that explanations are ALWAYS in the user’s input language, regardless of the selected target language\\n'"
      ]
     },
     "execution_count": 5,
     "metadata": {},
     "output_type": "execute_result"
    }
   ],
   "source": [
    "system_message"
   ]
  },
  {
   "cell_type": "code",
   "execution_count": 6,
   "id": "2d6a71d0-99ed-4481-ac56-dc4fc0ce9590",
   "metadata": {},
   "outputs": [],
   "source": [
    "def language_assistant(text, target_language, history):\n",
    "    messages = [\n",
    "        {'role': 'system', 'content': system_message}] + history + [{'role': 'user', \n",
    "                                                                     'content': f'Please translate only the word or phrase provided into {target_language}.'\n",
    "                                                                    'Additionally, provide synonyms, example sentences, or small exercises as needed. '\n",
    "                                                                    'Respond in the language the user is writing in. '\n",
    "                                                                    f'Text: {text}'\n",
    "        f\"Text: {text}\"}]\n",
    "    stream = openai.chat.completions.create(\n",
    "    model = MODEL,\n",
    "    messages = messages,\n",
    "    stream = True\n",
    "    )\n",
    "    \n",
    "    result = ''\n",
    "    for chunk in stream:\n",
    "        result += chunk.choices[0].delta.content or ''\n",
    "        result = result.replace(\"```\",\"\").replace(\"markdown\", \"\")\n",
    "\n",
    "    history = history or []\n",
    "    history.append({'role': 'user', 'content': text})\n",
    "    history.append({'role': 'assistant', 'content': result})\n",
    "    return history"
   ]
  },
  {
   "cell_type": "markdown",
   "id": "488031b4-ceb8-461d-8cdf-c1593c5eec37",
   "metadata": {},
   "source": [
    "## Simple UI with Gradio"
   ]
  },
  {
   "cell_type": "code",
   "execution_count": 7,
   "id": "83137a62-d2f1-4493-bb84-5eda391df17c",
   "metadata": {},
   "outputs": [],
   "source": [
    "def create_interface():\n",
    "    with gr.Blocks(title = 'AI Language Companion') as interface:\n",
    "        gr.Markdown(\"# 🌍 AI Language Companion\")\n",
    "\n",
    "        with gr.Row():\n",
    "            \n",
    "            with gr.Column(min_width = 600):\n",
    "                inputs = gr.Textbox(label = 'Your question', placeholder = 'Type your text here..', lines = 15,                    \n",
    "                                   )\n",
    "                target_language = gr.Dropdown(\n",
    "                    ['English', 'German', 'Spanish', 'French', 'Italian',],\n",
    "                    label = 'Choose Target Language',\n",
    "                    value = 'English'    \n",
    "                )\n",
    "                submit_button = gr.Button(\"Submit\", variant = 'primary')\n",
    "\n",
    "            with gr.Column():\n",
    "                chatbot = gr.Chatbot(label = 'Chat History', type = 'messages',\n",
    "                                              height = 600)\n",
    "\n",
    "        with gr.Row():\n",
    "            clear = gr.Button('Clear')\n",
    "\n",
    "        submit_button.click(\n",
    "            fn=language_assistant,\n",
    "            inputs = [inputs, target_language, chatbot],\n",
    "            outputs = chatbot,\n",
    "            queue = False\n",
    "        ).then(lambda: gr.update(value=''), inputs = [], outputs = inputs)\n",
    "        clear.click(lambda: None, inputs = None, outputs = chatbot, queue = False)\n",
    "\n",
    "    return interface"
   ]
  },
  {
   "cell_type": "code",
   "execution_count": 8,
   "id": "d74a6849-4911-4fd9-9b5a-1b134e03580e",
   "metadata": {},
   "outputs": [
    {
     "name": "stdout",
     "output_type": "stream",
     "text": [
      "* Running on local URL:  http://127.0.0.1:7860\n",
      "\n",
      "To create a public link, set `share=True` in `launch()`.\n"
     ]
    },
    {
     "data": {
      "text/html": [
       "<div><iframe src=\"http://127.0.0.1:7860/\" width=\"100%\" height=\"500\" allow=\"autoplay; camera; microphone; clipboard-read; clipboard-write;\" frameborder=\"0\" allowfullscreen></iframe></div>"
      ],
      "text/plain": [
       "<IPython.core.display.HTML object>"
      ]
     },
     "metadata": {},
     "output_type": "display_data"
    }
   ],
   "source": [
    "if __name__ == \"__main__\":\n",
    "    language_companion = create_interface()\n",
    "    language_companion.launch(inbrowser = True)"
   ]
  },
  {
   "cell_type": "code",
   "execution_count": null,
   "id": "8b28486a-00ca-4f1e-ad74-c98b9f2786e4",
   "metadata": {},
   "outputs": [],
   "source": []
  }
 ],
 "metadata": {
  "kernelspec": {
   "display_name": "Python 3 (ipykernel)",
   "language": "python",
   "name": "python3"
  },
  "language_info": {
   "codemirror_mode": {
    "name": "ipython",
    "version": 3
   },
   "file_extension": ".py",
   "mimetype": "text/x-python",
   "name": "python",
   "nbconvert_exporter": "python",
   "pygments_lexer": "ipython3",
   "version": "3.11.4"
  }
 },
 "nbformat": 4,
 "nbformat_minor": 5
}
